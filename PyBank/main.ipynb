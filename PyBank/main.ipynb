{
 "cells": [
  {
   "cell_type": "code",
   "execution_count": 48,
   "id": "013a8cbb-e9f4-4aa0-927f-f1047cc1a016",
   "metadata": {},
   "outputs": [],
   "source": [
    "#file_path=\"C:/Users/Emmae/Desktop/python-challenge/PyBank/Resources/budget_data.csv\"\n",
    "file_path_relative=\"Resources/budget_data.csv\""
   ]
  },
  {
   "cell_type": "code",
   "execution_count": 49,
   "id": "6a1774f7-587c-4b7f-9fc9-f03527189b47",
   "metadata": {},
   "outputs": [],
   "source": [
    "import os\n",
    "import csv"
   ]
  },
  {
   "cell_type": "code",
   "execution_count": 50,
   "id": "915375ef-0460-4c7c-be06-841e669ebcaa",
   "metadata": {},
   "outputs": [],
   "source": [
    "# Path to collect data from the Resources folder\n",
    "PyBankcsv=os.path.join(\"Resources\",\"budget_data.csv\")"
   ]
  },
  {
   "cell_type": "code",
   "execution_count": 51,
   "id": "2d4e1eb6-29e2-492f-826e-4a4b0d9ba5af",
   "metadata": {},
   "outputs": [],
   "source": [
    "#create the list to store data\n",
    "\n",
    "months = []\n",
    "profit_loss_changes = []"
   ]
  },
  {
   "cell_type": "code",
   "execution_count": 52,
   "id": "33831a53-40ca-4954-a1cc-f6a66c3ca90f",
   "metadata": {},
   "outputs": [],
   "source": [
    "#Initialize the variables\n",
    "\n",
    "count_months = 0\n",
    "net_profit_loss = 0\n",
    "previous_month_profit_loss = 0\n",
    "current_month_profit_loss = 0\n",
    "profit_loss_change = 0"
   ]
  },
  {
   "cell_type": "code",
   "execution_count": 53,
   "id": "c353d762-e346-46eb-ab9c-827915ec1e9c",
   "metadata": {},
   "outputs": [
    {
     "name": "stdout",
     "output_type": "stream",
     "text": [
      "Financial Analysis\n",
      "----------------------------\n",
      "Total Months:  86\n",
      "Total:  $38382578\n",
      "Average Change:  $-2315.12\n",
      "Greatest Increase in Profits:  Feb-2012 ($1926159)\n",
      "Greatest Decrease in Losses:  Sep-2013 ($-2196167)\n"
     ]
    }
   ],
   "source": [
    "# Open and read csv\n",
    "with open(PyBankcsv, newline=\"\") as csvfile:\n",
    "\n",
    "    csv_reader = csv.reader(csvfile, delimiter=\",\")\n",
    "\n",
    "    # Read the header row first\n",
    "    csv_header = next(csvfile)\n",
    "    \n",
    "    for row in csv_reader:\n",
    "        count_months+= 1\n",
    "\n",
    "        # Net total amount of \"Profit/Losses\" over the entire period\n",
    "        current_month_profit_loss = int(row[1])\n",
    "        net_profit_loss += current_month_profit_loss\n",
    "        \n",
    "        if (count_months == 1):\n",
    "            # Make the value of previous month to be equal to current month\n",
    "            previous_month_profit_loss = current_month_profit_loss\n",
    "            continue\n",
    "            \n",
    "        else:\n",
    "\n",
    "            # Compute change in profit loss \n",
    "            profit_loss_change = current_month_profit_loss - previous_month_profit_loss\n",
    "\n",
    "            # Append each month to the months[]\n",
    "            months.append(row[0])\n",
    "\n",
    "            # Append each profit_loss_change to the profit_loss_changes[]\n",
    "            profit_loss_changes.append(profit_loss_change)\n",
    "\n",
    "            # Make the current_month_loss to be previous_month_profit_loss for the next loop\n",
    "            previous_month_profit_loss = current_month_profit_loss\n",
    "\n",
    "    #sum and average of the changes in \"Profit/Losses\" over the entire period\n",
    "    sum_profit_loss = sum(profit_loss_changes)\n",
    "    average_profit_loss = round(sum_profit_loss/(count_months - 1), 2)\n",
    "\n",
    "    # highest and lowest changes in \"Profit/Losses\" over the entire period\n",
    "    highest_change = max(profit_loss_changes)\n",
    "    lowest_change = min(profit_loss_changes)\n",
    "\n",
    "    # Locate the index value of highest and lowest changes in \"Profit/Losses\" over the entire period\n",
    "    highest_month_index = profit_loss_changes.index(highest_change)\n",
    "    lowest_month_index = profit_loss_changes.index(lowest_change)\n",
    "\n",
    "    # Assign best and worst month\n",
    "    best_month = months[highest_month_index]\n",
    "    worst_month = months[lowest_month_index]\n",
    "\n",
    "\n",
    "print(\"Financial Analysis\")\n",
    "print(\"----------------------------\")\n",
    "print(f\"Total Months:  {count_months}\")\n",
    "print(f\"Total:  ${net_profit_loss}\")\n",
    "print(f\"Average Change:  ${average_profit_loss}\")\n",
    "print(f\"Greatest Increase in Profits:  {best_month} (${highest_change})\")\n",
    "print(f\"Greatest Decrease in Losses:  {worst_month} (${lowest_change})\")\n",
    "\n",
    "\n",
    "with open('financial_analysis.txt', 'w') as text:\n",
    "\n",
    "    text.write(\"Financial Analysis\\n\")\n",
    "    text.write(\"----------------------------\\n\")\n",
    "    text.write(f\"Total Months:  {count_months}\\n\")\n",
    "    text.write(f\"Total:  ${net_profit_loss}\\n\")\n",
    "    text.write(f\"Average Change:  ${average_profit_loss}\\n\")\n",
    "    text.write(f\"Greatest Increase in Profits:  {best_month} (${highest_change})\\n\")\n",
    "    text.write(f\"Greatest Decrease in Losses:  {worst_month} (${lowest_change})\\n\")\n"
   ]
  },
  {
   "cell_type": "code",
   "execution_count": null,
   "id": "1812f897-050c-48ca-a202-0ec70b7ca3ed",
   "metadata": {},
   "outputs": [],
   "source": []
  },
  {
   "cell_type": "code",
   "execution_count": null,
   "id": "0884a0ad-6b20-4e38-872b-5e53e0682f70",
   "metadata": {},
   "outputs": [],
   "source": []
  }
 ],
 "metadata": {
  "kernelspec": {
   "display_name": "Python 3 (ipykernel)",
   "language": "python",
   "name": "python3"
  },
  "language_info": {
   "codemirror_mode": {
    "name": "ipython",
    "version": 3
   },
   "file_extension": ".py",
   "mimetype": "text/x-python",
   "name": "python",
   "nbconvert_exporter": "python",
   "pygments_lexer": "ipython3",
   "version": "3.9.13"
  }
 },
 "nbformat": 4,
 "nbformat_minor": 5
}
